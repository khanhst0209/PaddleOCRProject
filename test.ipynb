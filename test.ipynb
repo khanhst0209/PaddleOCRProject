{
 "cells": [
  {
   "cell_type": "code",
   "execution_count": 8,
   "metadata": {},
   "outputs": [
    {
     "name": "stdout",
     "output_type": "stream",
     "text": [
      "[2024/12/27 10:26:36] ppocr DEBUG: Namespace(help='==SUPPRESS==', use_gpu=False, use_xpu=False, use_npu=False, use_mlu=False, ir_optim=True, use_tensorrt=False, min_subgraph_size=15, precision='fp32', gpu_mem=500, gpu_id=0, image_dir=None, page_num=0, det_algorithm='DB', det_model_dir='./models/det', det_limit_side_len=960, det_limit_type='max', det_box_type='quad', det_db_thresh=0.3, det_db_box_thresh=0.6, det_db_unclip_ratio=1.5, max_batch_size=10, use_dilation=False, det_db_score_mode='fast', det_east_score_thresh=0.8, det_east_cover_thresh=0.1, det_east_nms_thresh=0.2, det_sast_score_thresh=0.5, det_sast_nms_thresh=0.2, det_pse_thresh=0, det_pse_box_thresh=0.85, det_pse_min_area=16, det_pse_scale=1, scales=[8, 16, 32], alpha=1.0, beta=1.0, fourier_degree=5, rec_algorithm='SVTR_LCNet', rec_model_dir='./models/rec', rec_image_inverse=True, rec_image_shape='3, 48, 320', rec_batch_num=6, max_text_length=25, rec_char_dict_path='d:\\\\Anaconda\\\\Lib\\\\site-packages\\\\paddleocr\\\\ppocr\\\\utils\\\\ppocr_keys_v1.txt', use_space_char=True, vis_font_path='./doc/fonts/simfang.ttf', drop_score=0.5, e2e_algorithm='PGNet', e2e_model_dir=None, e2e_limit_side_len=768, e2e_limit_type='max', e2e_pgnet_score_thresh=0.5, e2e_char_dict_path='./ppocr/utils/ic15_dict.txt', e2e_pgnet_valid_set='totaltext', e2e_pgnet_mode='fast', use_angle_cls=False, cls_model_dir='C:\\\\Users\\\\phamn/.paddleocr/whl\\\\cls\\\\ch_ppocr_mobile_v2.0_cls_infer', cls_image_shape='3, 48, 192', label_list=['0', '180'], cls_batch_num=6, cls_thresh=0.9, enable_mkldnn=False, cpu_threads=10, use_pdserving=False, warmup=False, sr_model_dir=None, sr_image_shape='3, 32, 128', sr_batch_num=1, draw_img_save_dir='./inference_results', save_crop_res=False, crop_res_save_dir='./output', use_mp=False, total_process_num=1, process_id=0, benchmark=False, save_log_path='./log_output/', show_log=True, use_onnx=False, return_word_box=False, output='./output', table_max_len=488, table_algorithm='TableAttn', table_model_dir=None, merge_no_span_structure=True, table_char_dict_path=None, formula_algorithm='LaTeXOCR', formula_model_dir=None, formula_char_dict_path=None, formula_batch_num=1, layout_model_dir=None, layout_dict_path=None, layout_score_threshold=0.5, layout_nms_threshold=0.5, kie_algorithm='LayoutXLM', ser_model_dir=None, re_model_dir=None, use_visual_backbone=True, ser_dict_path='../train_data/XFUND/class_list_xfun.txt', ocr_order_method=None, mode='structure', image_orientation=False, layout=True, table=True, formula=False, ocr=True, recovery=False, recovery_to_markdown=False, use_pdf2docx_api=False, invert=False, binarize=False, alphacolor=(255, 255, 255), lang='ch', det=True, rec=True, type='ocr', savefile=False, ocr_version='PP-OCRv4', structure_version='PP-StructureV2')\n",
      "[2024/12/27 10:26:38] ppocr DEBUG: dt_boxes num : 0, elapsed : 0.1330242156982422\n",
      "[2024/12/27 10:26:38] ppocr DEBUG: rec_res num  : 0, elapsed : 0.0\n",
      "No text detected or OCR failed.\n"
     ]
    }
   ],
   "source": [
    "from paddleocr import PaddleOCR, draw_ocr\n",
    "import cv2\n",
    "import matplotlib.pyplot as plt\n",
    "import os\n",
    "\n",
    "# Đường dẫn tới mô hình `ch_PP-OCRv4`\n",
    "ocr = PaddleOCR(det_model_dir='./models/det',  # Model detection\n",
    "                rec_model_dir='./models/rec',  # Model recognition\n",
    "                use_gpu=True)  # Đặt True nếu sử dụng GPU\n",
    "\n",
    "# Đường dẫn tới ảnh chữ Nôm để kiểm tra\n",
    "image_path = './DVSKTT_thu_I_1a.jpg'\n",
    "\n",
    "# Kiểm tra ảnh\n",
    "assert os.path.exists(image_path), f\"Image not found at {image_path}\"\n",
    "image = cv2.imread(image_path)\n",
    "\n",
    "# OCR: Phát hiện và nhận diện văn bản\n",
    "results = ocr.ocr(image_path, cls=False)\n",
    "\n",
    "# Kiểm tra kết quả OCR\n",
    "if results is None or not results[0]:\n",
    "    print(\"No text detected or OCR failed.\")\n",
    "else:\n",
    "    # Hiển thị kết quả\n",
    "    for line in results[0]:\n",
    "        print(f\"Detected text: {line[1][0]}, Confidence: {line[1][1]:.2f}\")\n",
    "\n",
    "    # Vẽ kết quả lên ảnh\n",
    "    boxes = [item[0] for item in results[0]]  # Vùng phát hiện văn bản\n",
    "    txts = [item[1][0] for item in results[0]]  # Văn bản nhận diện\n",
    "    scores = [item[1][1] for item in results[0]]  # Độ tin cậy\n",
    "\n",
    "    # Kiểm tra font\n",
    "    font_path = './NomNatong-Regular.ttf'\n",
    "    assert os.path.exists(font_path), \"Font file not found\"\n",
    "\n",
    "    # Sử dụng PaddleOCR để vẽ\n",
    "    image_with_results = draw_ocr(image, boxes, txts, scores, font_path=font_path)\n",
    "\n",
    "    # Hiển thị ảnh kết quả\n",
    "    plt.figure(figsize=(10, 10))\n",
    "    plt.imshow(image_with_results)\n",
    "    plt.axis('off')\n",
    "    plt.show()\n"
   ]
  }
 ],
 "metadata": {
  "kernelspec": {
   "display_name": "base",
   "language": "python",
   "name": "python3"
  },
  "language_info": {
   "codemirror_mode": {
    "name": "ipython",
    "version": 3
   },
   "file_extension": ".py",
   "mimetype": "text/x-python",
   "name": "python",
   "nbconvert_exporter": "python",
   "pygments_lexer": "ipython3",
   "version": "3.11.7"
  }
 },
 "nbformat": 4,
 "nbformat_minor": 2
}
